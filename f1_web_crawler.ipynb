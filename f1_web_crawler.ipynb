{
 "cells": [
  {
   "cell_type": "code",
   "execution_count": 45,
   "id": "c9a0aee9",
   "metadata": {},
   "outputs": [],
   "source": [
    "import requests\n",
    "from bs4 import BeautifulSoup\n",
    "import pandas as pd\n",
    "from sqlalchemy import create_engine"
   ]
  },
  {
   "cell_type": "code",
   "execution_count": null,
   "id": "7e4b278c",
   "metadata": {},
   "outputs": [
    {
     "data": {
      "text/plain": [
       "<Response [200]>"
      ]
     },
     "execution_count": 46,
     "metadata": {},
     "output_type": "execute_result"
    }
   ],
   "source": [
    "url = 'https://www.formula1.com/en/results/2025/drivers'\n",
    "response = requests.get(url)"
   ]
  },
  {
   "cell_type": "code",
   "execution_count": 47,
   "id": "c9cec229",
   "metadata": {},
   "outputs": [
    {
     "name": "stdout",
     "output_type": "stream",
     "text": [
      "   position        driver_name nationality             team  pts\n",
      "0         1      Oscar Piastri         AUS          McLaren  284\n",
      "1         2       Lando Norris         GBR          McLaren  275\n",
      "2         3     Max Verstappen         NED  Red Bull Racing  187\n",
      "3         4     George Russell         GBR         Mercedes  172\n",
      "4         5    Charles Leclerc         MON          Ferrari  151\n",
      "5         6     Lewis Hamilton         GBR          Ferrari  109\n",
      "6         7     Kimi Antonelli         ITA         Mercedes   64\n",
      "7         8    Alexander Albon         THA         Williams   54\n",
      "8         9    Nico Hulkenberg         GER      Kick Sauber   37\n",
      "9        10       Esteban Ocon         FRA             Haas   27\n",
      "10       11    Fernando Alonso         ESP     Aston Martin   26\n",
      "11       12       Lance Stroll         CAN     Aston Martin   26\n",
      "12       13       Isack Hadjar         FRA     Racing Bulls   22\n",
      "13       14       Pierre Gasly         FRA           Alpine   20\n",
      "14       15        Liam Lawson         NZL     Racing Bulls   20\n",
      "15       16       Carlos Sainz         ESP         Williams   16\n",
      "16       17  Gabriel Bortoleto         BRA      Kick Sauber   14\n",
      "17       18       Yuki Tsunoda         JPN  Red Bull Racing   10\n",
      "18       19     Oliver Bearman         GBR             Haas    8\n",
      "19       20   Franco Colapinto         ARG           Alpine    0\n",
      "20       21        Jack Doohan         AUS           Alpine    0\n"
     ]
    }
   ],
   "source": [
    "if (response.status_code == 200):\n",
    "    soup = BeautifulSoup(response.content, 'html.parser')\n",
    "    table = soup.find('table', class_ = 'f1-table f1-table-with-data w-full')\n",
    "    rows = table.find_all('tr')\n",
    "    # print(len(rows))\n",
    "    data = []\n",
    "    for row_id, row in enumerate(rows):\n",
    "        columns = row.find_all('td')\n",
    "        if columns:\n",
    "            record = {}\n",
    "            pos = columns[0].text.strip()\n",
    "            driver_name = columns[1].text.strip()[:-3]\n",
    "            nationality = columns[2].text\n",
    "            team = columns[3].text\n",
    "            pts = columns[4].text\n",
    "            record['position'] = pos\n",
    "            record['driver_name'] = driver_name\n",
    "            record['nationality'] = nationality\n",
    "            record['team'] = team\n",
    "            record['pts'] = pts\n",
    "            data.append(record)\n",
    "            # print(f\"Position: {pos}\\\n",
    "            #       \\nDriver Name: {driver_name}\\\n",
    "            #       \\nNationality: {nationality}\\\n",
    "            #       \\nTeam: {team}\\\n",
    "            #       \\nPoints: {pts}\\n\\n\")\n",
    "    df = pd.DataFrame(data)\n",
    "    print(df)\n",
    "            "
   ]
  },
  {
   "cell_type": "code",
   "execution_count": null,
   "id": "06d4007d",
   "metadata": {},
   "outputs": [
    {
     "name": "stderr",
     "output_type": "stream",
     "text": [
      "C:\\Users\\ADMIN\\AppData\\Local\\Temp\\ipykernel_18428\\3862394324.py:31: UserWarning: The provided table name 'Driver_Standings' is not found exactly as such in the database after writing the table, possibly due to case sensitivity issues. Consider using lower case table names.\n",
      "  df.to_sql(name='Driver_Standings', con=engine_with_db, if_exists='replace', index=False)\n"
     ]
    },
    {
     "data": {
      "text/plain": [
       "21"
      ]
     },
     "execution_count": 56,
     "metadata": {},
     "output_type": "execute_result"
    }
   ],
   "source": [
    "from sqlalchemy import create_engine, text\n",
    "\n",
    "# Kết nối đến MySQL server (không chỉ định database cụ thể)\n",
    "engine = create_engine(\n",
    "    'mysql+mysqlconnector://',\n",
    "    connect_args={\n",
    "        'user': 'root',\n",
    "        'password': 'Phuong2005@',\n",
    "        'host': 'localhost',\n",
    "        'port': 3306\n",
    "    }\n",
    ")\n",
    "\n",
    "# Tạo database nếu chưa có\n",
    "with engine.connect() as conn:\n",
    "    conn.execute(text(\"CREATE DATABASE IF NOT EXISTS data_f1\"))\n",
    "\n",
    "# Sau đó kết nối đến database vừa tạo\n",
    "engine_with_db = create_engine(\n",
    "    'mysql+mysqlconnector://',\n",
    "    connect_args={\n",
    "        'user': 'root',\n",
    "        'password': 'Phuong2005@',\n",
    "        'host': 'localhost',\n",
    "        'port': 3306,\n",
    "        'database': 'data_f1'\n",
    "    }\n",
    ")\n",
    "\n",
    "# Insert data\n",
    "df.to_sql(name='Driver_Standings', con=engine_with_db, if_exists='replace', index=False)"
   ]
  },
  {
   "cell_type": "code",
   "execution_count": null,
   "id": "c5e766b1",
   "metadata": {},
   "outputs": [],
   "source": [
    "# soup.title.text"
   ]
  }
 ],
 "metadata": {
  "kernelspec": {
   "display_name": "venv",
   "language": "python",
   "name": "python3"
  },
  "language_info": {
   "codemirror_mode": {
    "name": "ipython",
    "version": 3
   },
   "file_extension": ".py",
   "mimetype": "text/x-python",
   "name": "python",
   "nbconvert_exporter": "python",
   "pygments_lexer": "ipython3",
   "version": "3.13.7"
  }
 },
 "nbformat": 4,
 "nbformat_minor": 5
}

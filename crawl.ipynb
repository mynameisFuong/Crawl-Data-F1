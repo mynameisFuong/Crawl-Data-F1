{
 "cells": [
  {
   "cell_type": "code",
   "execution_count": 33,
   "metadata": {},
   "outputs": [
    {
     "name": "stdout",
     "output_type": "stream",
     "text": [
      "<Response [200]>\n"
     ]
    }
   ],
   "source": [
    "import requests\n",
    "from bs4 import BeautifulSoup\n",
    "import pandas as pd\n",
    "\n",
    "url = 'https://danso.org/viet-nam/'\n",
    "response = requests.get(url)\n",
    "print(response)"
   ]
  },
  {
   "cell_type": "code",
   "execution_count": 36,
   "metadata": {},
   "outputs": [
    {
     "name": "stdout",
     "output_type": "stream",
     "text": [
      "     Năm    Dan So % Thay doi Thay doi    Di cu Tuoi trung binh Ty le sinh  \\\n",
      "0   2020  97338579       0.91   876473   -80000            32.5       2.06   \n",
      "1   2019  96462106       0.96   916144   -80000            30.9       1.98   \n",
      "2   2018  95545962       1.00   945314   -80000            30.9       1.98   \n",
      "3   2017  94600648       1.03   960226   -80000            30.9       1.98   \n",
      "4   2016  93640422       1.04   963346   -80000            30.9       1.98   \n",
      "5   2015  92677076       1.05   941885   -80000            30.5       1.96   \n",
      "6   2010  87967651       0.97   826998  -159994            28.5       1.93   \n",
      "7   2005  83832661       0.96   784450  -130200            26.4       1.92   \n",
      "8   2000  79910412       1.30   999990   -43200            24.2       2.25   \n",
      "9   1995  74910461       1.96  1384320   -78847            22.3       3.23   \n",
      "10  1990  67988862       2.23  1418428   -66465            21.1       3.85   \n",
      "11  1985  60896721       2.33  1322975   -65513            20.0       4.60   \n",
      "12  1980  54281846       2.19  1112731  -171779            19.1       5.50   \n",
      "13  1975  48718189       2.34  1062679        0            18.3       6.33   \n",
      "14  1970  43404793       2.77  1109168        0            18.2       6.46   \n",
      "15  1965  37858951       2.99  1037782        0            19.2       6.42   \n",
      "16  1960  32670039       3.02   904519        0            21.9       6.16   \n",
      "17  1955  28147443       2.56   667508        0            23.6       5.40   \n",
      "\n",
      "   Mat do % Dan thanh thi Dan thanh thi % The gioi    The gioi Hang  \n",
      "0     314            37.7      36727248       1.25  7794798739   15  \n",
      "1     311            37.0      35686730       1.25  7713468100   15  \n",
      "2     308            36.3      34658961       1.25  7631091040   15  \n",
      "3     305            35.6      33642498       1.25  7547858925   15  \n",
      "4     302            34.9      32635787       1.25  7464022049   15  \n",
      "5     299            34.1      31635369       1.26  7379797139   14  \n",
      "6     284            30.6      26910696       1.26  6956823603   13  \n",
      "7     270            27.4      23000555       1.28  6541907027   13  \n",
      "8     258            24.5      19568590       1.30  6143493823   13  \n",
      "9     242            22.3      16668571       1.30  5744212979   13  \n",
      "10    219            20.3      13817423       1.28  5327231061   13  \n",
      "11    196            19.6      11942117       1.25  4870921740   13  \n",
      "12    175            19.3      10464982       1.22  4458003514   15  \n",
      "13    157            18.8       9152476       1.19  4079480606   17  \n",
      "14    140            18.3       7943534       1.17  3700437046   17  \n",
      "15    122            16.4       6216854       1.13  3339583597   18  \n",
      "16    105            14.7       4802582       1.08  3034949748   17  \n",
      "17     91            13.1       3685807       1.02  2773019936   18  \n"
     ]
    }
   ],
   "source": [
    "if response.status_code == 200:\n",
    "    soup = BeautifulSoup(response.content, 'html.parser')\n",
    "    table = soup.find('table', class_ = 'display')\n",
    "    # print(table)\n",
    "    rows = table.find_all('tr')\n",
    "    # print(rows[0])\n",
    "    data = []\n",
    "    for row_id, row in enumerate(rows):\n",
    "        columns = row.find_all('td')\n",
    "        record = {}\n",
    "        if row_id == 0:\n",
    "            continue\n",
    "        record['Năm'] = columns[0].text.strip()\n",
    "        record['Dan So'] = columns[1].text.strip()\n",
    "        record['% Thay doi'] = columns[2].text.strip()\n",
    "        record['Thay doi'] = columns[3].text.strip()\n",
    "        record['Di cu'] = columns[4].text.strip()\n",
    "        record['Tuoi trung binh'] = columns[5].text.strip()\n",
    "        record['Ty le sinh'] = columns[6].text.strip()\n",
    "        record['Mat do'] = columns[7].text.strip()\n",
    "        record['% Dan thanh thi'] = columns[8].text.strip()\n",
    "        record['Dan thanh thi'] = columns[9].text.strip()\n",
    "        record['% The gioi'] = columns[10].text.strip()\n",
    "        record['The gioi'] = columns[11].text.strip()\n",
    "        record['Hang'] = columns[12].text.strip()\n",
    "        data.append(record)\n",
    "\n",
    "    df = pd.DataFrame(data)\n",
    "    print(df)\n",
    "    "
   ]
  },
  {
   "cell_type": "code",
   "execution_count": 35,
   "metadata": {},
   "outputs": [
    {
     "data": {
      "text/plain": [
       "<div class=\"notification-bar\"><div>⚠ Dữ liệu đang được hiệu chỉnh và cập nhật...</div></div>"
      ]
     },
     "execution_count": 35,
     "metadata": {},
     "output_type": "execute_result"
    }
   ],
   "source": [
    "soup.div"
   ]
  }
 ],
 "metadata": {
  "kernelspec": {
   "display_name": "Python 3",
   "language": "python",
   "name": "python3"
  },
  "language_info": {
   "codemirror_mode": {
    "name": "ipython",
    "version": 3
   },
   "file_extension": ".py",
   "mimetype": "text/x-python",
   "name": "python",
   "nbconvert_exporter": "python",
   "pygments_lexer": "ipython3",
   "version": "3.9.6"
  }
 },
 "nbformat": 4,
 "nbformat_minor": 2
}
